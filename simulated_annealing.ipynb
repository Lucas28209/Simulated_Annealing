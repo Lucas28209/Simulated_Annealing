{
 "cells": [
  {
   "cell_type": "code",
   "execution_count": 67,
   "metadata": {},
   "outputs": [],
   "source": [
    "import numpy as np\n",
    "import random"
   ]
  },
  {
   "cell_type": "code",
   "execution_count": 57,
   "metadata": {},
   "outputs": [],
   "source": [
    "coord = np.loadtxt('51.txt')\n",
    "matrix = np.zeros((51,51))\n",
    "aux = len(coord)\n",
    "\t\t\n",
    "dist = list()\n",
    "#dist.append(0)"
   ]
  },
  {
   "cell_type": "code",
   "execution_count": 58,
   "metadata": {},
   "outputs": [
    {
     "name": "stdout",
     "output_type": "stream",
     "text": [
      "2601\n"
     ]
    }
   ],
   "source": [
    "\n",
    "for i in coord:\n",
    "\tfor j in coord:\n",
    "\t\tdist.append( ( (i[1]-j[1])**2 + (i[2]-j[2])**2)**0.5 )\n",
    "print(len(dist))\t\t \n",
    "for i in range(aux):\n",
    "\tfor j in range(aux):\n",
    "\t\tmatrix[i][j] = dist[j+(aux*i)]"
   ]
  },
  {
   "cell_type": "code",
   "execution_count": 59,
   "metadata": {},
   "outputs": [
    {
     "data": {
      "text/plain": [
       "0.0"
      ]
     },
     "execution_count": 59,
     "metadata": {},
     "output_type": "execute_result"
    }
   ],
   "source": [
    "matrix[2][2]"
   ]
  },
  {
   "cell_type": "code",
   "execution_count": 69,
   "metadata": {},
   "outputs": [],
   "source": [
    "perm = list(range(1,51+1))\n",
    "random.shuffle(perm)"
   ]
  },
  {
   "cell_type": "code",
   "execution_count": 95,
   "metadata": {},
   "outputs": [
    {
     "name": "stdout",
     "output_type": "stream",
     "text": [
      "[13, 19, 43, 42, 22, 47, 3, 5, 16, 11, 18, 34, 35, 1, 31, 4, 20, 51, 46, 6, 29, 21, 12, 26, 15, 23, 45, 38, 9, 27, 24, 2, 25, 10, 7, 28, 8, 40, 30, 50, 41, 44, 39, 17, 37, 36, 33, 49, 14, 32, 48]\n"
     ]
    }
   ],
   "source": [
    "print(perm)\n",
    "custo = 0 \n",
    "for i in range(2):#len(perm)-1):\n",
    "    #print(perm[i],perm[i+1])\n",
    "    custo += matrix[perm[i]-1][perm[i+1]-1]\n",
    "custo += matrix[perm[-1]-1][perm[0]-1]"
   ]
  },
  {
   "cell_type": "code",
   "execution_count": 96,
   "metadata": {},
   "outputs": [
    {
     "data": {
      "text/plain": [
       "102.10135585305707"
      ]
     },
     "execution_count": 96,
     "metadata": {},
     "output_type": "execute_result"
    }
   ],
   "source": [
    "custo"
   ]
  }
 ],
 "metadata": {
  "kernelspec": {
   "display_name": "Python 3.9.0 64-bit",
   "language": "python",
   "name": "python3"
  },
  "language_info": {
   "codemirror_mode": {
    "name": "ipython",
    "version": 3
   },
   "file_extension": ".py",
   "mimetype": "text/x-python",
   "name": "python",
   "nbconvert_exporter": "python",
   "pygments_lexer": "ipython3",
   "version": "3.9.0"
  },
  "orig_nbformat": 4,
  "vscode": {
   "interpreter": {
    "hash": "f13baad3d70416a794a9ad2b29e7f938b0cb4bb83d2e11d388b95830c728084f"
   }
  }
 },
 "nbformat": 4,
 "nbformat_minor": 2
}
